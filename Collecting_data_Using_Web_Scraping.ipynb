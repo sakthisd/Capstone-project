{
 "cells": [
  {
   "cell_type": "markdown",
   "metadata": {},
   "source": [
    "<p style=\"text-align:center\">\n",
    "    <a href=\"https://skills.network/?utm_medium=Exinfluencer&utm_source=Exinfluencer&utm_content=000026UJ&utm_term=10006555&utm_id=NA-SkillsNetwork-Channel-SkillsNetworkCoursesIBMDA0321ENSkillsNetwork21426264-2022-01-01\" target=\"_blank\">\n",
    "    <img src=\"https://cf-courses-data.s3.us.cloud-object-storage.appdomain.cloud/assets/logos/SN_web_lightmode.png\" width=\"200\" alt=\"Skills Network Logo\"  />\n",
    "    </a>\n",
    "</p>\n"
   ]
  },
  {
   "cell_type": "markdown",
   "metadata": {},
   "source": [
    "# **Web Scraping Lab**\n"
   ]
  },
  {
   "cell_type": "markdown",
   "metadata": {},
   "source": [
    "Estimated time needed: **30** minutes\n"
   ]
  },
  {
   "cell_type": "markdown",
   "metadata": {},
   "source": [
    "## Objectives\n"
   ]
  },
  {
   "cell_type": "markdown",
   "metadata": {},
   "source": [
    "After completing this lab you will be able to:\n"
   ]
  },
  {
   "cell_type": "markdown",
   "metadata": {},
   "source": [
    "*   Download a webpage using requests module\n",
    "*   Scrape all links from a web page\n",
    "*   Scrape all image urls from a web page\n",
    "*   Scrape data from html tables\n"
   ]
  },
  {
   "cell_type": "markdown",
   "metadata": {},
   "source": [
    "## Scrape [www.ibm.com](http://www.ibm.com/?utm_medium=Exinfluencer&utm_source=Exinfluencer&utm_content=000026UJ&utm_term=10006555&utm_id=NA-SkillsNetwork-Channel-SkillsNetworkCoursesIBMDA0321ENSkillsNetwork21426264-2022-01-01)\n"
   ]
  },
  {
   "cell_type": "markdown",
   "metadata": {},
   "source": [
    "Import the required modules and functions\n"
   ]
  },
  {
   "cell_type": "code",
   "execution_count": 18,
   "metadata": {},
   "outputs": [
    {
     "name": "stdout",
     "output_type": "stream",
     "text": [
      "Collecting bs4\n",
      "  Downloading bs4-0.0.1.tar.gz (1.1 kB)\n",
      "  Preparing metadata (setup.py) ... \u001b[?25ldone\n",
      "\u001b[?25hRequirement already satisfied: beautifulsoup4 in /home/jupyterlab/conda/envs/python/lib/python3.7/site-packages (from bs4) (4.11.1)\n",
      "Requirement already satisfied: soupsieve>1.2 in /home/jupyterlab/conda/envs/python/lib/python3.7/site-packages (from beautifulsoup4->bs4) (2.3.2.post1)\n",
      "Building wheels for collected packages: bs4\n",
      "  Building wheel for bs4 (setup.py) ... \u001b[?25ldone\n",
      "\u001b[?25h  Created wheel for bs4: filename=bs4-0.0.1-py3-none-any.whl size=1257 sha256=c6b47741874f3da1ae45992bb1f1d705590d2b5563f347e5e594b7083f09fd6f\n",
      "  Stored in directory: /home/jupyterlab/.cache/pip/wheels/0a/9e/ba/20e5bbc1afef3a491f0b3bb74d508f99403aabe76eda2167ca\n",
      "Successfully built bs4\n",
      "Installing collected packages: bs4\n",
      "Successfully installed bs4-0.0.1\n"
     ]
    }
   ],
   "source": [
    "!pip install bs4"
   ]
  },
  {
   "cell_type": "code",
   "execution_count": 19,
   "metadata": {},
   "outputs": [],
   "source": [
    "from bs4 import BeautifulSoup   #  this module helps in web scrapping.\n",
    "import requests                 #  this module helps us to download a web page"
   ]
  },
  {
   "cell_type": "markdown",
   "metadata": {},
   "source": [
    "Download the contents of the web page\n"
   ]
  },
  {
   "cell_type": "code",
   "execution_count": 20,
   "metadata": {},
   "outputs": [],
   "source": [
    "url = \"http://www.ibm.com\""
   ]
  },
  {
   "cell_type": "code",
   "execution_count": 21,
   "metadata": {},
   "outputs": [],
   "source": [
    "# get the contents of the webpage in text format and store in a variable called data\n",
    "data = requests.get(url).text "
   ]
  },
  {
   "cell_type": "markdown",
   "metadata": {},
   "source": [
    "Create a soup object using the class BeautifulSoup\n"
   ]
  },
  {
   "cell_type": "code",
   "execution_count": 23,
   "metadata": {},
   "outputs": [],
   "source": [
    "soup = BeautifulSoup(data)  # create a soup object using the variable 'data'"
   ]
  },
  {
   "cell_type": "markdown",
   "metadata": {},
   "source": [
    "Scrape all links\n"
   ]
  },
  {
   "cell_type": "code",
   "execution_count": 24,
   "metadata": {},
   "outputs": [
    {
     "name": "stdout",
     "output_type": "stream",
     "text": [
      "https://www.ibm.com/consulting/?lnk=ushpv18l1\n",
      "None\n",
      "#ibm-hp--tech-section\n",
      "https://www.ibm.com/consulting/?lnk=ushpv18intro2\n",
      "None\n",
      "https://www.ibm.com/flashsystem?lnk=ushpv18f1\n",
      "https://www.ibm.com/products/business-analytics-enterprise?lnk=ushpv18f2\n",
      "https://www.ibm.com/reports/threat-intelligence/?lnk=ushpv18f3\n",
      "https://www.ibm.com/thought-leadership/institute-business-value/en-us/report/digital-identity?lnk=ushpv18f4\n",
      "None\n",
      "https://newsroom.ibm.com/2022-10-18-Cleveland-Clinic-and-IBM-Begin-Installation-of-IBM-Quantum-System-One?lnk=ushpv18r1\n",
      "https://newsroom.ibm.com/2022-10-18-Cleveland-Clinic-and-IBM-Begin-Installation-of-IBM-Quantum-System-One?lnk=ushpv18r1\n",
      "https://research.ibm.com/blog/quantum-challenge-fall-2022?lnk=ushpv18r2\n",
      "https://research.ibm.com/blog/ibm-artificial-intelligence-unit-aiu?lnk=ushpv18r3\n",
      "https://research.ibm.com/blog/deliberate-innovation-open-source-osi?lnk=ushpv18r4\n",
      "None\n",
      "https://www.ibm.com/case-studies/search?lnk=ushpv18mAll\n",
      "https://www.ibm.com/case-studies/iptor-sweden/?lnk=ushpv18m1\n",
      "https://www.ibm.com/case-studies/max-mara-fashion-group/?lnk=ushpv18m2\n",
      "https://www.ibm.com/case-studies/bic-camera/?lnk=ushpv18m3\n",
      "None\n",
      "https://www.ibm.com/products?types[0]=trial&lnk=STW_US_MPDISC_BNR_BTN&lnk2=THP&lnk3=ushpv18tAll\n",
      "https://www.ibm.com/products/offers-and-discounts?link=ushpv18t5&lnk2=trial_mktpl_MPDISC\n",
      "https://www.ibm.com/products/planning-analytics?lnk=ushpv18t1&lnk2=trial_PlanningAnalytics&psrc=none&pexp=def\n",
      "https://www.ibm.com/cloud/turbonomic?lnk=ushpv18t2&lnk2=trial_Turbo&psrc=none&pexp=def\n",
      "https://www.ibm.com/products/verify-identity/cloud?lnk=ushpv18t3&lnk2=trial_Verify&psrc=none&pexp=def\n",
      "https://www.ibm.com/search?lnk=ushpv18srch&locale=en-us&q=\n",
      "https://www.ibm.com/products?lnk=ushpv18p1&lnk2=trial_mktpl&psrc=none&pexp=def\n",
      "https://www.ibm.com/cloud/hybrid?lnk=ushpv18pt14\n",
      "https://www.ibm.com/watson?lnk=ushpv18pt17\n",
      "https://www.ibm.com/it-infrastructure?lnk=ushpv18pt19\n",
      "https://www.ibm.com/blockchain?lnk=ushpv18pt4\n",
      "https://www.ibm.com/security/products?lnk=ushpv18pt9\n",
      "https://www.ibm.com/analytics/products?lnk=ushpv18pt1\n",
      "https://www.ibm.com/cloud/automation?lnk=ushpv18ct21\n",
      "https://www.ibm.com/quantum-computing?lnk=ushpv18pt16\n",
      "https://www.ibm.com/mysupport/s/?language=en_US&lnk=ushpv18ct11\n",
      "https://www.ibm.com/training/?lnk=ushpv18ct15\n",
      "https://community.ibm.com/community/user/home/?lnk=ushpv18ct20\n",
      "https://developer.ibm.com/?lnk=ushpv18ct9\n",
      "https://www.ibm.com/garage?lnk=ushpv18pt18\n",
      "https://www.ibm.com/docs/en?lnk=ushpv18ct14\n",
      "https://www.redbooks.ibm.com/?lnk=ushpv18ct10\n",
      "https://www.ibm.com/subscribe/?lnk=ushpv18ct22\n",
      "https://www.ibm.com/employment/?lnk=ushpv18ct2\n"
     ]
    }
   ],
   "source": [
    "for link in soup.find_all('a'):  # in html anchor/link is represented by the tag <a>\n",
    "    print(link.get('href'))"
   ]
  },
  {
   "cell_type": "markdown",
   "metadata": {},
   "source": [
    "Scrape  all images\n"
   ]
  },
  {
   "cell_type": "code",
   "execution_count": 25,
   "metadata": {},
   "outputs": [
    {
     "name": "stdout",
     "output_type": "stream",
     "text": [
      "data:image/svg+xml;base64,PHN2ZyB3aWR0aD0iMTA1NSIgaGVpZ2h0PSI1MjcuNSIgeG1sbnM9Imh0dHA6Ly93d3cudzMub3JnLzIwMDAvc3ZnIiB2ZXJzaW9uPSIxLjEiLz4=\n",
      "https://1.dam.s81c.com/p/096c816c53c6eb75/20221017-ls-consulting-720x360.jpg\n",
      "https://1.dam.s81c.com/p/06e2f56d753ab596/20220208-f-flash-systems-product-launch-26378.png\n",
      "https://1.dam.s81c.com/p/096c816b1346e3c4/20221017-business-analytics-enterprise-800x450.jpg.global.s_4x3.png\n",
      "https://1.dam.s81c.com/public/content/dam/worldwide-content/homepage/ul/g/15/b5/20220228-f-x-force-intel-report-26413-444x320-26413.jpg\n",
      "https://1.dam.s81c.com/p/096c816b13c6e3fc/20221017-security-identity-08f951353ba7072d-444x333.jpg\n",
      "https://1.dam.s81c.com/p/099c0c3547bd382b/20221024-r1-cliveland-clinic-quantum-27065-1600x900.jpg\n",
      "https://1.dam.s81c.com/p/099c0c3547bd3828/20221017-r-quantum-challenge-screen-27056-800x450.jpg\n",
      "https://1.dam.s81c.com/p/099c0c3547bd3829/20221024-r-ibm-aiu-chip-27066-800x450.jpg\n",
      "https://1.dam.s81c.com/p/08f95134b227038f/20220822-r-open-source-incubator-800x450.jpg\n",
      "https://1.dam.s81c.com/p/096c816c53c6eb74/20221024-m-iptor-27064-1600x900.jpg\n",
      "https://1.dam.s81c.com/p/096c816b13c6e413/20221017-m-max-mara-27040-1600x900.jpg\n",
      "https://1.dam.s81c.com/p/096c816b1346e3aa/20221010-m-bic-camera-27022-1600x900.jpg\n",
      "https://1.dam.s81c.com/public/content/dam/worldwide-content/homepage/ul/g/39/2f/20220216-t-ibm-planning-analytics.png\n",
      "https://1.dam.s81c.com/p/099c0c3547bd384d/Trubonomics-trial-800x450.jpg\n",
      "https://1.dam.s81c.com/public/content/dam/worldwide-content/homepage/ul/g/ac/2e/Security-Verify-Trial-800x450.jpg\n"
     ]
    }
   ],
   "source": [
    "for link in soup.find_all('img'):  # in html image is represented by the tag <img>\n",
    "    print(link.get('src'))"
   ]
  },
  {
   "cell_type": "markdown",
   "metadata": {},
   "source": [
    "## Scrape data from html tables\n"
   ]
  },
  {
   "cell_type": "code",
   "execution_count": 26,
   "metadata": {},
   "outputs": [],
   "source": [
    "# The below url contains a html table with data about colors and color codes."
   ]
  },
  {
   "cell_type": "code",
   "execution_count": 27,
   "metadata": {},
   "outputs": [],
   "source": [
    "url = \"https://cf-courses-data.s3.us.cloud-object-storage.appdomain.cloud/IBM-DA0321EN-SkillsNetwork/labs/datasets/HTMLColorCodes.html\""
   ]
  },
  {
   "cell_type": "markdown",
   "metadata": {},
   "source": [
    "Before proceeding to scrape a web site, you need to examine the contents, and the way data is organized on the website. Open the above url in your browser and check how many rows and columns are there in the color table.\n"
   ]
  },
  {
   "cell_type": "code",
   "execution_count": 28,
   "metadata": {},
   "outputs": [],
   "source": [
    "# get the contents of the webpage in text format and store in a variable called data\n",
    "data = requests.get(url).text"
   ]
  },
  {
   "cell_type": "code",
   "execution_count": 30,
   "metadata": {},
   "outputs": [],
   "source": [
    "soup = BeautifulSoup(data)"
   ]
  },
  {
   "cell_type": "code",
   "execution_count": 31,
   "metadata": {},
   "outputs": [],
   "source": [
    "# find a html table in the web page\n",
    "table = soup.find('table')  # in html table is represented by the tag <table>"
   ]
  },
  {
   "cell_type": "code",
   "execution_count": 32,
   "metadata": {},
   "outputs": [
    {
     "name": "stdout",
     "output_type": "stream",
     "text": [
      "Color Name--->Hex Code#RRGGBB\n",
      "lightsalmon--->#FFA07A\n",
      "salmon--->#FA8072\n",
      "darksalmon--->#E9967A\n",
      "lightcoral--->#F08080\n",
      "coral--->#FF7F50\n",
      "tomato--->#FF6347\n",
      "orangered--->#FF4500\n",
      "gold--->#FFD700\n",
      "orange--->#FFA500\n",
      "darkorange--->#FF8C00\n",
      "lightyellow--->#FFFFE0\n",
      "lemonchiffon--->#FFFACD\n",
      "papayawhip--->#FFEFD5\n",
      "moccasin--->#FFE4B5\n",
      "peachpuff--->#FFDAB9\n",
      "palegoldenrod--->#EEE8AA\n",
      "khaki--->#F0E68C\n",
      "darkkhaki--->#BDB76B\n",
      "yellow--->#FFFF00\n",
      "lawngreen--->#7CFC00\n",
      "chartreuse--->#7FFF00\n",
      "limegreen--->#32CD32\n",
      "lime--->#00FF00\n",
      "forestgreen--->#228B22\n",
      "green--->#008000\n",
      "powderblue--->#B0E0E6\n",
      "lightblue--->#ADD8E6\n",
      "lightskyblue--->#87CEFA\n",
      "skyblue--->#87CEEB\n",
      "deepskyblue--->#00BFFF\n",
      "lightsteelblue--->#B0C4DE\n",
      "dodgerblue--->#1E90FF\n"
     ]
    }
   ],
   "source": [
    "# Get all rows from the table\n",
    "for row in table.find_all('tr'):    # in html table row is represented by the tag <tr>  \n",
    "    # Get all columns in each row.\n",
    "    cols = row.find_all('td')       # in html a column is represented by the tag <td>\n",
    "    color_name = cols[2].getText()  # store the value in column 3 as color_name\n",
    "    color_code = cols[3].getText()  # store the value in column 4 as color_code\n",
    "    print(\"{}--->{}\".format(color_name, color_code))"
   ]
  },
  {
   "cell_type": "markdown",
   "metadata": {},
   "source": [
    "## Authors\n"
   ]
  },
  {
   "cell_type": "markdown",
   "metadata": {},
   "source": [
    "Ramesh Sannareddy\n"
   ]
  },
  {
   "cell_type": "markdown",
   "metadata": {},
   "source": [
    "### Other Contributors\n"
   ]
  },
  {
   "cell_type": "markdown",
   "metadata": {},
   "source": [
    "Rav Ahuja\n"
   ]
  },
  {
   "cell_type": "markdown",
   "metadata": {},
   "source": [
    "## Change Log\n"
   ]
  },
  {
   "cell_type": "markdown",
   "metadata": {},
   "source": [
    "| Date (YYYY-MM-DD) | Version | Changed By        | Change Description                 |\n",
    "| ----------------- | ------- | ----------------- | ---------------------------------- |\n",
    "| 2020-10-17        | 0.1     | Ramesh Sannareddy | Created initial version of the lab |\n"
   ]
  },
  {
   "cell_type": "markdown",
   "metadata": {},
   "source": [
    "Copyright © 2020 IBM Corporation. This notebook and its source code are released under the terms of the [MIT License](https://cognitiveclass.ai/mit-license/?utm_medium=Exinfluencer&utm_source=Exinfluencer&utm_content=000026UJ&utm_term=10006555&utm_id=NA-SkillsNetwork-Channel-SkillsNetworkCoursesIBMDA0321ENSkillsNetwork21426264-2022-01-01).\n"
   ]
  }
 ],
 "metadata": {
  "kernelspec": {
   "display_name": "Python",
   "language": "python",
   "name": "conda-env-python-py"
  },
  "language_info": {
   "codemirror_mode": {
    "name": "ipython",
    "version": 3
   },
   "file_extension": ".py",
   "mimetype": "text/x-python",
   "name": "python",
   "nbconvert_exporter": "python",
   "pygments_lexer": "ipython3",
   "version": "3.7.12"
  }
 },
 "nbformat": 4,
 "nbformat_minor": 4
}
